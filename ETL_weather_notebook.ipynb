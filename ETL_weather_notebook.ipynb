{
 "cells": [
  {
   "cell_type": "code",
   "execution_count": 22,
   "metadata": {},
   "outputs": [],
   "source": [
    "from pathlib import Path\n",
    "from pyspark import SparkConf\n",
    "from pyspark.sql import SparkSession, DataFrame\n",
    "from pyspark.sql.functions import col, explode\n",
    "from pyspark.sql.types import TimestampType\n"
   ]
  },
  {
   "cell_type": "code",
   "execution_count": 1,
   "metadata": {},
   "outputs": [
    {
     "name": "stderr",
     "output_type": "stream",
     "text": [
      "Picked up JAVA_TOOL_OPTIONS:  -Xmx3489m\n",
      "Picked up JAVA_TOOL_OPTIONS:  -Xmx3489m\n",
      "Warning: Ignoring non-Spark config property: fs.s3a.aws.credentials.provider\n"
     ]
    },
    {
     "name": "stdout",
     "output_type": "stream",
     "text": [
      ":: loading settings :: url = jar:file:/workspace/academy-capstone/venv/lib/python3.11/site-packages/pyspark/jars/ivy-2.5.1.jar!/org/apache/ivy/core/settings/ivysettings.xml\n"
     ]
    },
    {
     "name": "stderr",
     "output_type": "stream",
     "text": [
      "Ivy Default Cache set to: /home/gitpod/.ivy2/cache\n",
      "The jars for the packages stored in: /home/gitpod/.ivy2/jars\n",
      "org.apache.hadoop#hadoop-aws added as a dependency\n",
      ":: resolving dependencies :: org.apache.spark#spark-submit-parent-f7da0801-d64f-4b34-b94d-0c1bf497a817;1.0\n",
      "\tconfs: [default]\n",
      "\tfound org.apache.hadoop#hadoop-aws;3.2.0 in central\n",
      "\tfound com.amazonaws#aws-java-sdk-bundle;1.11.375 in central\n",
      ":: resolution report :: resolve 259ms :: artifacts dl 8ms\n",
      "\t:: modules in use:\n",
      "\tcom.amazonaws#aws-java-sdk-bundle;1.11.375 from central in [default]\n",
      "\torg.apache.hadoop#hadoop-aws;3.2.0 from central in [default]\n",
      "\t---------------------------------------------------------------------\n",
      "\t|                  |            modules            ||   artifacts   |\n",
      "\t|       conf       | number| search|dwnlded|evicted|| number|dwnlded|\n",
      "\t---------------------------------------------------------------------\n",
      "\t|      default     |   2   |   0   |   0   |   0   ||   2   |   0   |\n",
      "\t---------------------------------------------------------------------\n",
      ":: retrieving :: org.apache.spark#spark-submit-parent-f7da0801-d64f-4b34-b94d-0c1bf497a817\n",
      "\tconfs: [default]\n",
      "\t0 artifacts copied, 2 already retrieved (0kB/7ms)\n",
      "23/09/14 12:31:35 WARN NativeCodeLoader: Unable to load native-hadoop library for your platform... using builtin-java classes where applicable\n",
      "Setting default log level to \"WARN\".\n",
      "To adjust logging level use sc.setLogLevel(newLevel). For SparkR, use setLogLevel(newLevel).\n",
      "23/09/14 12:31:40 WARN MetricsConfig: Cannot locate configuration: tried hadoop-metrics2-s3a-file-system.properties,hadoop-metrics2.properties\n",
      "                                                                                \r"
     ]
    }
   ],
   "source": [
    "\n",
    "\n",
    "# Save data from S3 bucket \n",
    "s3_path = f\"s3a://dataminded-academy-capstone-resources/raw/open_aq/\"\n",
    "config = {\"spark.jars.packages\": \"org.apache.hadoop:hadoop-aws:3.2.0\", \"fs.s3a.aws.credentials.provider\": \"com.amazonaws.auth.DefaultAWSCredentialsProviderChain\"}\n",
    "conf = SparkConf().setAll(config.items())\n",
    "spark = SparkSession.builder.config(conf = conf).getOrCreate()\n",
    "df = spark.read.json(s3_path)"
   ]
  },
  {
   "cell_type": "code",
   "execution_count": 2,
   "metadata": {},
   "outputs": [
    {
     "name": "stdout",
     "output_type": "stream",
     "text": [
      "root\n",
      " |-- city: string (nullable = true)\n",
      " |-- coordinates: struct (nullable = true)\n",
      " |    |-- latitude: double (nullable = true)\n",
      " |    |-- longitude: double (nullable = true)\n",
      " |-- country: string (nullable = true)\n",
      " |-- date: struct (nullable = true)\n",
      " |    |-- local: string (nullable = true)\n",
      " |    |-- utc: string (nullable = true)\n",
      " |-- entity: string (nullable = true)\n",
      " |-- isAnalysis: boolean (nullable = true)\n",
      " |-- isMobile: boolean (nullable = true)\n",
      " |-- location: string (nullable = true)\n",
      " |-- locationId: long (nullable = true)\n",
      " |-- parameter: string (nullable = true)\n",
      " |-- sensorType: string (nullable = true)\n",
      " |-- unit: string (nullable = true)\n",
      " |-- value: double (nullable = true)\n",
      "\n"
     ]
    }
   ],
   "source": [
    "df.printSchema()"
   ]
  },
  {
   "cell_type": "code",
   "execution_count": 12,
   "metadata": {},
   "outputs": [
    {
     "name": "stderr",
     "output_type": "stream",
     "text": [
      "                                                                                \r"
     ]
    },
    {
     "name": "stdout",
     "output_type": "stream",
     "text": [
      "+----+-------+---------+----------+--------+--------------------+----------+---------+---------------+-----+-----+--------------------+---------------------+--------------------+--------------------+\n",
      "|city|country|   entity|isAnalysis|isMobile|            location|locationId|parameter|     sensorType| unit|value|coordinates_latitude|coordinates_longitude|          date_local|            date_utc|\n",
      "+----+-------+---------+----------+--------+--------------------+----------+---------+---------------+-----+-----+--------------------+---------------------+--------------------+--------------------+\n",
      "|null|     BE|community|     false|   false|      Wilsele-Herent|     66110|      pm1|low-cost sensor|µg/m³|  1.7|              50.904|               4.6959|2021-02-02T22:59:...|2021-02-02T23:59:...|\n",
      "|null|     BE|community|     false|   false|      Wilsele-Herent|     66110|     pm25|low-cost sensor|µg/m³|  4.1|              50.904|               4.6959|2021-02-02T22:59:...|2021-02-02T23:59:...|\n",
      "|null|     BE|community|     false|   false|      Wilsele-Herent|     66110|     pm10|low-cost sensor|µg/m³|  5.9|              50.904|               4.6959|2021-02-02T22:59:...|2021-02-02T23:59:...|\n",
      "|null|     BE|community|     false|   false|               Zulte|     70441|     pm25|low-cost sensor|µg/m³|  5.8|              50.921|               3.4562|2021-02-02T22:59:...|2021-02-02T23:59:...|\n",
      "|null|     BE|community|     false|   false|               Zulte|     70441|      pm1|low-cost sensor|µg/m³|  2.7|              50.921|               3.4562|2021-02-02T22:59:...|2021-02-02T23:59:...|\n",
      "|null|     BE|community|     false|   false|               Zulte|     70441|     pm10|low-cost sensor|µg/m³|  8.1|              50.921|               3.4562|2021-02-02T22:59:...|2021-02-02T23:59:...|\n",
      "|null|     BE|community|     false|   false|                 N43|     65895|      pm1|low-cost sensor|µg/m³|  1.9|             50.9815|               3.5463|2021-02-02T22:59:...|2021-02-02T23:59:...|\n",
      "|null|     BE|community|     false|   false|                 N43|     65895|     pm25|low-cost sensor|µg/m³|  4.7|             50.9815|               3.5463|2021-02-02T22:59:...|2021-02-02T23:59:...|\n",
      "|null|     BE|community|     false|   false|                 N43|     65895|     pm10|low-cost sensor|µg/m³|  5.9|             50.9815|               3.5463|2021-02-02T22:59:...|2021-02-02T23:59:...|\n",
      "|null|     BE|community|     false|   false|    Sluispark Leuven|     63272|      pm1|low-cost sensor|µg/m³|  1.4|             50.8864|               4.7003|2021-02-02T22:58:...|2021-02-02T23:58:...|\n",
      "|null|     BE|community|     false|   false|    Sluispark Leuven|     63272|     pm10|low-cost sensor|µg/m³|  3.7|             50.8864|               4.7003|2021-02-02T22:58:...|2021-02-02T23:58:...|\n",
      "|null|     BE|community|     false|   false|    Sluispark Leuven|     63272|     pm25|low-cost sensor|µg/m³|  2.6|             50.8864|               4.7003|2021-02-02T22:58:...|2021-02-02T23:58:...|\n",
      "|null|     BE|community|     false|   false|Sas van Gent, Zee...|     68532|     pm25|low-cost sensor|µg/m³|  5.7|             51.2252|               3.7902|2021-02-02T22:58:...|2021-02-02T23:58:...|\n",
      "|null|     BE|community|     false|   false|Sas van Gent, Zee...|     68532|     pm10|low-cost sensor|µg/m³|  7.8|             51.2252|               3.7902|2021-02-02T22:58:...|2021-02-02T23:58:...|\n",
      "|null|     BE|community|     false|   false|Sas van Gent, Zee...|     68532|      pm1|low-cost sensor|µg/m³|  2.4|             51.2252|               3.7902|2021-02-02T22:58:...|2021-02-02T23:58:...|\n",
      "|null|     BE|community|     false|   false|   Heist-op-den-Berg|     72334|      pm1|low-cost sensor|µg/m³|  2.6|              51.071|               4.7037|2021-02-02T22:58:...|2021-02-02T23:58:...|\n",
      "|null|     BE|community|     false|   false|   Heist-op-den-Berg|     72334|     pm10|low-cost sensor|µg/m³| 10.1|              51.071|               4.7037|2021-02-02T22:58:...|2021-02-02T23:58:...|\n",
      "|null|     BE|community|     false|   false|   Heist-op-den-Berg|     72334|     pm25|low-cost sensor|µg/m³|  6.6|              51.071|               4.7037|2021-02-02T22:58:...|2021-02-02T23:58:...|\n",
      "|null|     BE|community|     false|   false|      Wilsele-Herent|     66110|      pm1|low-cost sensor|µg/m³|  1.8|              50.904|               4.6959|2021-02-02T22:57:...|2021-02-02T23:57:...|\n",
      "|null|     BE|community|     false|   false|      Wilsele-Herent|     66110|     pm10|low-cost sensor|µg/m³|  6.8|              50.904|               4.6959|2021-02-02T22:57:...|2021-02-02T23:57:...|\n",
      "+----+-------+---------+----------+--------+--------------------+----------+---------+---------------+-----+-----+--------------------+---------------------+--------------------+--------------------+\n",
      "only showing top 20 rows\n",
      "\n"
     ]
    }
   ],
   "source": [
    "## More straight forward way from Adriana: withColumn('longitude', col('coordinates.longitude')), then drop column\n",
    "\n",
    "## From StackOverflow\n",
    "def flatten_df(nested_df):\n",
    "    flat_cols = [c[0] for c in nested_df.dtypes if c[1][:6] != 'struct']\n",
    "    nested_cols = [c[0] for c in nested_df.dtypes if c[1][:6] == 'struct']\n",
    "\n",
    "    flat_df = nested_df.select(flat_cols +\n",
    "                               [col(nc+'.'+c).alias(nc+'_'+c)\n",
    "                                for nc in nested_cols\n",
    "                                for c in nested_df.select(nc+'.*').columns])\n",
    "    return flat_df\n",
    "\n",
    "flat_df = flatten_df(df)\n",
    "flat_df.show()"
   ]
  },
  {
   "cell_type": "code",
   "execution_count": 25,
   "metadata": {},
   "outputs": [
    {
     "name": "stderr",
     "output_type": "stream",
     "text": [
      "[Stage 7:>                                                          (0 + 1) / 1]\r"
     ]
    },
    {
     "name": "stdout",
     "output_type": "stream",
     "text": [
      "+----+-------+---------+----------+--------+--------------------+----------+---------+---------------+-----+-----+--------------------+---------------------+-------------------+-------------------+\n",
      "|city|country|   entity|isAnalysis|isMobile|            location|locationId|parameter|     sensorType| unit|value|coordinates_latitude|coordinates_longitude|         date_local|           date_utc|\n",
      "+----+-------+---------+----------+--------+--------------------+----------+---------+---------------+-----+-----+--------------------+---------------------+-------------------+-------------------+\n",
      "|null|     BE|community|     false|   false|      Wilsele-Herent|     66110|      pm1|low-cost sensor|µg/m³|  1.7|              50.904|               4.6959|2021-02-02 23:59:53|2021-02-02 23:59:53|\n",
      "|null|     BE|community|     false|   false|      Wilsele-Herent|     66110|     pm25|low-cost sensor|µg/m³|  4.1|              50.904|               4.6959|2021-02-02 23:59:53|2021-02-02 23:59:53|\n",
      "|null|     BE|community|     false|   false|      Wilsele-Herent|     66110|     pm10|low-cost sensor|µg/m³|  5.9|              50.904|               4.6959|2021-02-02 23:59:53|2021-02-02 23:59:53|\n",
      "|null|     BE|community|     false|   false|               Zulte|     70441|     pm25|low-cost sensor|µg/m³|  5.8|              50.921|               3.4562|2021-02-02 23:59:52|2021-02-02 23:59:52|\n",
      "|null|     BE|community|     false|   false|               Zulte|     70441|      pm1|low-cost sensor|µg/m³|  2.7|              50.921|               3.4562|2021-02-02 23:59:52|2021-02-02 23:59:52|\n",
      "|null|     BE|community|     false|   false|               Zulte|     70441|     pm10|low-cost sensor|µg/m³|  8.1|              50.921|               3.4562|2021-02-02 23:59:52|2021-02-02 23:59:52|\n",
      "|null|     BE|community|     false|   false|                 N43|     65895|      pm1|low-cost sensor|µg/m³|  1.9|             50.9815|               3.5463|2021-02-02 23:59:25|2021-02-02 23:59:25|\n",
      "|null|     BE|community|     false|   false|                 N43|     65895|     pm25|low-cost sensor|µg/m³|  4.7|             50.9815|               3.5463|2021-02-02 23:59:25|2021-02-02 23:59:25|\n",
      "|null|     BE|community|     false|   false|                 N43|     65895|     pm10|low-cost sensor|µg/m³|  5.9|             50.9815|               3.5463|2021-02-02 23:59:25|2021-02-02 23:59:25|\n",
      "|null|     BE|community|     false|   false|    Sluispark Leuven|     63272|      pm1|low-cost sensor|µg/m³|  1.4|             50.8864|               4.7003|2021-02-02 23:58:56|2021-02-02 23:58:56|\n",
      "|null|     BE|community|     false|   false|    Sluispark Leuven|     63272|     pm10|low-cost sensor|µg/m³|  3.7|             50.8864|               4.7003|2021-02-02 23:58:56|2021-02-02 23:58:56|\n",
      "|null|     BE|community|     false|   false|    Sluispark Leuven|     63272|     pm25|low-cost sensor|µg/m³|  2.6|             50.8864|               4.7003|2021-02-02 23:58:56|2021-02-02 23:58:56|\n",
      "|null|     BE|community|     false|   false|Sas van Gent, Zee...|     68532|     pm25|low-cost sensor|µg/m³|  5.7|             51.2252|               3.7902|2021-02-02 23:58:52|2021-02-02 23:58:52|\n",
      "|null|     BE|community|     false|   false|Sas van Gent, Zee...|     68532|     pm10|low-cost sensor|µg/m³|  7.8|             51.2252|               3.7902|2021-02-02 23:58:52|2021-02-02 23:58:52|\n",
      "|null|     BE|community|     false|   false|Sas van Gent, Zee...|     68532|      pm1|low-cost sensor|µg/m³|  2.4|             51.2252|               3.7902|2021-02-02 23:58:52|2021-02-02 23:58:52|\n",
      "|null|     BE|community|     false|   false|   Heist-op-den-Berg|     72334|      pm1|low-cost sensor|µg/m³|  2.6|              51.071|               4.7037|2021-02-02 23:58:20|2021-02-02 23:58:20|\n",
      "|null|     BE|community|     false|   false|   Heist-op-den-Berg|     72334|     pm10|low-cost sensor|µg/m³| 10.1|              51.071|               4.7037|2021-02-02 23:58:20|2021-02-02 23:58:20|\n",
      "|null|     BE|community|     false|   false|   Heist-op-den-Berg|     72334|     pm25|low-cost sensor|µg/m³|  6.6|              51.071|               4.7037|2021-02-02 23:58:20|2021-02-02 23:58:20|\n",
      "|null|     BE|community|     false|   false|      Wilsele-Herent|     66110|      pm1|low-cost sensor|µg/m³|  1.8|              50.904|               4.6959|2021-02-02 23:57:53|2021-02-02 23:57:53|\n",
      "|null|     BE|community|     false|   false|      Wilsele-Herent|     66110|     pm10|low-cost sensor|µg/m³|  6.8|              50.904|               4.6959|2021-02-02 23:57:53|2021-02-02 23:57:53|\n",
      "+----+-------+---------+----------+--------+--------------------+----------+---------+---------------+-----+-----+--------------------+---------------------+-------------------+-------------------+\n",
      "only showing top 20 rows\n",
      "\n"
     ]
    },
    {
     "name": "stderr",
     "output_type": "stream",
     "text": [
      "                                                                                \r"
     ]
    }
   ],
   "source": [
    "flat_df = flat_df.withColumn(\"date_local\" , col(\"date_local\").cast(TimestampType()))\\\n",
    "       .withColumn(\"date_utc\" , col(\"date_utc\").cast(TimestampType()))\n",
    "\n",
    "flat_df.show()"
   ]
  },
  {
   "cell_type": "markdown",
   "metadata": {},
   "source": [
    "## Get secrets from AWS Secrets Manager\n",
    "```aws secretsmanager get-secret-value --secret-id snowflake/capstone/login```"
   ]
  },
  {
   "cell_type": "markdown",
   "metadata": {},
   "source": [
    "## Log-in to AWS Console\n",
    "IAMAccount: datamindedacademy\n",
    "User: Vanessa\n",
    "Password: On Slack"
   ]
  }
 ],
 "metadata": {
  "kernelspec": {
   "display_name": "venv",
   "language": "python",
   "name": "python3"
  },
  "language_info": {
   "codemirror_mode": {
    "name": "ipython",
    "version": 3
   },
   "file_extension": ".py",
   "mimetype": "text/x-python",
   "name": "python",
   "nbconvert_exporter": "python",
   "pygments_lexer": "ipython3",
   "version": "3.11.4"
  },
  "orig_nbformat": 4
 },
 "nbformat": 4,
 "nbformat_minor": 2
}
