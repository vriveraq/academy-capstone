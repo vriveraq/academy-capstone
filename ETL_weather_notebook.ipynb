{
 "cells": [
  {
   "cell_type": "code",
   "execution_count": 54,
   "metadata": {},
   "outputs": [],
   "source": [
    "from pathlib import Path\n",
    "from pyspark import SparkConf\n",
    "from pyspark.sql import SparkSession, DataFrame\n",
    "from pyspark.sql.functions import col, explode\n",
    "from pyspark.sql.types import TimestampType\n"
   ]
  },
  {
   "cell_type": "code",
   "execution_count": 55,
   "metadata": {},
   "outputs": [
    {
     "name": "stderr",
     "output_type": "stream",
     "text": [
      "                                                                                \r"
     ]
    }
   ],
   "source": [
    "\n",
    "\n",
    "# Save data from S3 bucket \n",
    "s3_path = f\"s3a://dataminded-academy-capstone-resources/raw/open_aq/\"\n",
    "config = {\"spark.jars.packages\": \"org.apache.hadoop:hadoop-aws:3.2.0,net.snowflake:spark-snowflake_2.12:2.9.0-spark_3.1,net.snowflake:snowflake-jdbc:3.13.3\", \n",
    "\"fs.s3a.aws.credentials.provider\": \"com.amazonaws.auth.DefaultAWSCredentialsProviderChain\",\n",
    "}\n",
    "conf = SparkConf().setAll(config.items())\n",
    "spark = SparkSession.builder.config(conf = conf).getOrCreate()\n",
    "df = spark.read.json(s3_path)"
   ]
  },
  {
   "cell_type": "code",
   "execution_count": 56,
   "metadata": {},
   "outputs": [
    {
     "name": "stdout",
     "output_type": "stream",
     "text": [
      "root\n",
      " |-- city: string (nullable = true)\n",
      " |-- coordinates: struct (nullable = true)\n",
      " |    |-- latitude: double (nullable = true)\n",
      " |    |-- longitude: double (nullable = true)\n",
      " |-- country: string (nullable = true)\n",
      " |-- date: struct (nullable = true)\n",
      " |    |-- local: string (nullable = true)\n",
      " |    |-- utc: string (nullable = true)\n",
      " |-- entity: string (nullable = true)\n",
      " |-- isAnalysis: boolean (nullable = true)\n",
      " |-- isMobile: boolean (nullable = true)\n",
      " |-- location: string (nullable = true)\n",
      " |-- locationId: long (nullable = true)\n",
      " |-- parameter: string (nullable = true)\n",
      " |-- sensorType: string (nullable = true)\n",
      " |-- unit: string (nullable = true)\n",
      " |-- value: double (nullable = true)\n",
      "\n"
     ]
    }
   ],
   "source": [
    "df.printSchema()"
   ]
  },
  {
   "cell_type": "code",
   "execution_count": 57,
   "metadata": {},
   "outputs": [
    {
     "name": "stdout",
     "output_type": "stream",
     "text": [
      "+----+-------+---------+----------+--------+--------------------+----------+---------+---------------+-----+-----+--------------------+---------------------+--------------------+--------------------+\n",
      "|city|country|   entity|isAnalysis|isMobile|            location|locationId|parameter|     sensorType| unit|value|coordinates_latitude|coordinates_longitude|          date_local|            date_utc|\n",
      "+----+-------+---------+----------+--------+--------------------+----------+---------+---------------+-----+-----+--------------------+---------------------+--------------------+--------------------+\n",
      "|null|     BE|community|     false|   false|      Wilsele-Herent|     66110|      pm1|low-cost sensor|µg/m³|  1.7|              50.904|               4.6959|2021-02-02T22:59:...|2021-02-02T23:59:...|\n",
      "|null|     BE|community|     false|   false|      Wilsele-Herent|     66110|     pm25|low-cost sensor|µg/m³|  4.1|              50.904|               4.6959|2021-02-02T22:59:...|2021-02-02T23:59:...|\n",
      "|null|     BE|community|     false|   false|      Wilsele-Herent|     66110|     pm10|low-cost sensor|µg/m³|  5.9|              50.904|               4.6959|2021-02-02T22:59:...|2021-02-02T23:59:...|\n",
      "|null|     BE|community|     false|   false|               Zulte|     70441|     pm25|low-cost sensor|µg/m³|  5.8|              50.921|               3.4562|2021-02-02T22:59:...|2021-02-02T23:59:...|\n",
      "|null|     BE|community|     false|   false|               Zulte|     70441|      pm1|low-cost sensor|µg/m³|  2.7|              50.921|               3.4562|2021-02-02T22:59:...|2021-02-02T23:59:...|\n",
      "|null|     BE|community|     false|   false|               Zulte|     70441|     pm10|low-cost sensor|µg/m³|  8.1|              50.921|               3.4562|2021-02-02T22:59:...|2021-02-02T23:59:...|\n",
      "|null|     BE|community|     false|   false|                 N43|     65895|      pm1|low-cost sensor|µg/m³|  1.9|             50.9815|               3.5463|2021-02-02T22:59:...|2021-02-02T23:59:...|\n",
      "|null|     BE|community|     false|   false|                 N43|     65895|     pm25|low-cost sensor|µg/m³|  4.7|             50.9815|               3.5463|2021-02-02T22:59:...|2021-02-02T23:59:...|\n",
      "|null|     BE|community|     false|   false|                 N43|     65895|     pm10|low-cost sensor|µg/m³|  5.9|             50.9815|               3.5463|2021-02-02T22:59:...|2021-02-02T23:59:...|\n",
      "|null|     BE|community|     false|   false|    Sluispark Leuven|     63272|      pm1|low-cost sensor|µg/m³|  1.4|             50.8864|               4.7003|2021-02-02T22:58:...|2021-02-02T23:58:...|\n",
      "|null|     BE|community|     false|   false|    Sluispark Leuven|     63272|     pm10|low-cost sensor|µg/m³|  3.7|             50.8864|               4.7003|2021-02-02T22:58:...|2021-02-02T23:58:...|\n",
      "|null|     BE|community|     false|   false|    Sluispark Leuven|     63272|     pm25|low-cost sensor|µg/m³|  2.6|             50.8864|               4.7003|2021-02-02T22:58:...|2021-02-02T23:58:...|\n",
      "|null|     BE|community|     false|   false|Sas van Gent, Zee...|     68532|     pm25|low-cost sensor|µg/m³|  5.7|             51.2252|               3.7902|2021-02-02T22:58:...|2021-02-02T23:58:...|\n",
      "|null|     BE|community|     false|   false|Sas van Gent, Zee...|     68532|     pm10|low-cost sensor|µg/m³|  7.8|             51.2252|               3.7902|2021-02-02T22:58:...|2021-02-02T23:58:...|\n",
      "|null|     BE|community|     false|   false|Sas van Gent, Zee...|     68532|      pm1|low-cost sensor|µg/m³|  2.4|             51.2252|               3.7902|2021-02-02T22:58:...|2021-02-02T23:58:...|\n",
      "|null|     BE|community|     false|   false|   Heist-op-den-Berg|     72334|      pm1|low-cost sensor|µg/m³|  2.6|              51.071|               4.7037|2021-02-02T22:58:...|2021-02-02T23:58:...|\n",
      "|null|     BE|community|     false|   false|   Heist-op-den-Berg|     72334|     pm10|low-cost sensor|µg/m³| 10.1|              51.071|               4.7037|2021-02-02T22:58:...|2021-02-02T23:58:...|\n",
      "|null|     BE|community|     false|   false|   Heist-op-den-Berg|     72334|     pm25|low-cost sensor|µg/m³|  6.6|              51.071|               4.7037|2021-02-02T22:58:...|2021-02-02T23:58:...|\n",
      "|null|     BE|community|     false|   false|      Wilsele-Herent|     66110|      pm1|low-cost sensor|µg/m³|  1.8|              50.904|               4.6959|2021-02-02T22:57:...|2021-02-02T23:57:...|\n",
      "|null|     BE|community|     false|   false|      Wilsele-Herent|     66110|     pm10|low-cost sensor|µg/m³|  6.8|              50.904|               4.6959|2021-02-02T22:57:...|2021-02-02T23:57:...|\n",
      "+----+-------+---------+----------+--------+--------------------+----------+---------+---------------+-----+-----+--------------------+---------------------+--------------------+--------------------+\n",
      "only showing top 20 rows\n",
      "\n"
     ]
    },
    {
     "name": "stderr",
     "output_type": "stream",
     "text": [
      "                                                                                \r"
     ]
    }
   ],
   "source": [
    "## More straight forward way from Adriana: withColumn('longitude', col('coordinates.longitude')), then drop column\n",
    "\n",
    "## From StackOverflow\n",
    "def flatten_df(nested_df):\n",
    "    flat_cols = [c[0] for c in nested_df.dtypes if c[1][:6] != 'struct']\n",
    "    nested_cols = [c[0] for c in nested_df.dtypes if c[1][:6] == 'struct']\n",
    "\n",
    "    flat_df = nested_df.select(flat_cols +\n",
    "                               [col(nc+'.'+c).alias(nc+'_'+c)\n",
    "                                for nc in nested_cols\n",
    "                                for c in nested_df.select(nc+'.*').columns])\n",
    "    return flat_df\n",
    "\n",
    "flat_df = flatten_df(df)\n",
    "flat_df.show()"
   ]
  },
  {
   "cell_type": "code",
   "execution_count": 58,
   "metadata": {},
   "outputs": [
    {
     "name": "stdout",
     "output_type": "stream",
     "text": [
      "+----+-------+---------+----------+--------+--------------------+----------+---------+---------------+-----+-----+--------------------+---------------------+-------------------+-------------------+\n",
      "|city|country|   entity|isAnalysis|isMobile|            location|locationId|parameter|     sensorType| unit|value|coordinates_latitude|coordinates_longitude|         date_local|           date_utc|\n",
      "+----+-------+---------+----------+--------+--------------------+----------+---------+---------------+-----+-----+--------------------+---------------------+-------------------+-------------------+\n",
      "|null|     BE|community|     false|   false|      Wilsele-Herent|     66110|      pm1|low-cost sensor|µg/m³|  1.7|              50.904|               4.6959|2021-02-02 23:59:53|2021-02-02 23:59:53|\n",
      "|null|     BE|community|     false|   false|      Wilsele-Herent|     66110|     pm25|low-cost sensor|µg/m³|  4.1|              50.904|               4.6959|2021-02-02 23:59:53|2021-02-02 23:59:53|\n",
      "|null|     BE|community|     false|   false|      Wilsele-Herent|     66110|     pm10|low-cost sensor|µg/m³|  5.9|              50.904|               4.6959|2021-02-02 23:59:53|2021-02-02 23:59:53|\n",
      "|null|     BE|community|     false|   false|               Zulte|     70441|     pm25|low-cost sensor|µg/m³|  5.8|              50.921|               3.4562|2021-02-02 23:59:52|2021-02-02 23:59:52|\n",
      "|null|     BE|community|     false|   false|               Zulte|     70441|      pm1|low-cost sensor|µg/m³|  2.7|              50.921|               3.4562|2021-02-02 23:59:52|2021-02-02 23:59:52|\n",
      "|null|     BE|community|     false|   false|               Zulte|     70441|     pm10|low-cost sensor|µg/m³|  8.1|              50.921|               3.4562|2021-02-02 23:59:52|2021-02-02 23:59:52|\n",
      "|null|     BE|community|     false|   false|                 N43|     65895|      pm1|low-cost sensor|µg/m³|  1.9|             50.9815|               3.5463|2021-02-02 23:59:25|2021-02-02 23:59:25|\n",
      "|null|     BE|community|     false|   false|                 N43|     65895|     pm25|low-cost sensor|µg/m³|  4.7|             50.9815|               3.5463|2021-02-02 23:59:25|2021-02-02 23:59:25|\n",
      "|null|     BE|community|     false|   false|                 N43|     65895|     pm10|low-cost sensor|µg/m³|  5.9|             50.9815|               3.5463|2021-02-02 23:59:25|2021-02-02 23:59:25|\n",
      "|null|     BE|community|     false|   false|    Sluispark Leuven|     63272|      pm1|low-cost sensor|µg/m³|  1.4|             50.8864|               4.7003|2021-02-02 23:58:56|2021-02-02 23:58:56|\n",
      "|null|     BE|community|     false|   false|    Sluispark Leuven|     63272|     pm10|low-cost sensor|µg/m³|  3.7|             50.8864|               4.7003|2021-02-02 23:58:56|2021-02-02 23:58:56|\n",
      "|null|     BE|community|     false|   false|    Sluispark Leuven|     63272|     pm25|low-cost sensor|µg/m³|  2.6|             50.8864|               4.7003|2021-02-02 23:58:56|2021-02-02 23:58:56|\n",
      "|null|     BE|community|     false|   false|Sas van Gent, Zee...|     68532|     pm25|low-cost sensor|µg/m³|  5.7|             51.2252|               3.7902|2021-02-02 23:58:52|2021-02-02 23:58:52|\n",
      "|null|     BE|community|     false|   false|Sas van Gent, Zee...|     68532|     pm10|low-cost sensor|µg/m³|  7.8|             51.2252|               3.7902|2021-02-02 23:58:52|2021-02-02 23:58:52|\n",
      "|null|     BE|community|     false|   false|Sas van Gent, Zee...|     68532|      pm1|low-cost sensor|µg/m³|  2.4|             51.2252|               3.7902|2021-02-02 23:58:52|2021-02-02 23:58:52|\n",
      "|null|     BE|community|     false|   false|   Heist-op-den-Berg|     72334|      pm1|low-cost sensor|µg/m³|  2.6|              51.071|               4.7037|2021-02-02 23:58:20|2021-02-02 23:58:20|\n",
      "|null|     BE|community|     false|   false|   Heist-op-den-Berg|     72334|     pm10|low-cost sensor|µg/m³| 10.1|              51.071|               4.7037|2021-02-02 23:58:20|2021-02-02 23:58:20|\n",
      "|null|     BE|community|     false|   false|   Heist-op-den-Berg|     72334|     pm25|low-cost sensor|µg/m³|  6.6|              51.071|               4.7037|2021-02-02 23:58:20|2021-02-02 23:58:20|\n",
      "|null|     BE|community|     false|   false|      Wilsele-Herent|     66110|      pm1|low-cost sensor|µg/m³|  1.8|              50.904|               4.6959|2021-02-02 23:57:53|2021-02-02 23:57:53|\n",
      "|null|     BE|community|     false|   false|      Wilsele-Herent|     66110|     pm10|low-cost sensor|µg/m³|  6.8|              50.904|               4.6959|2021-02-02 23:57:53|2021-02-02 23:57:53|\n",
      "+----+-------+---------+----------+--------+--------------------+----------+---------+---------------+-----+-----+--------------------+---------------------+-------------------+-------------------+\n",
      "only showing top 20 rows\n",
      "\n"
     ]
    }
   ],
   "source": [
    "flat_df = flat_df.withColumn(\"date_local\" , col(\"date_local\").cast(TimestampType()))\\\n",
    "       .withColumn(\"date_utc\" , col(\"date_utc\").cast(TimestampType()))\n",
    "\n",
    "flat_df.show()"
   ]
  },
  {
   "cell_type": "markdown",
   "metadata": {},
   "source": [
    "## Get secrets from AWS Secrets Manager\n",
    "```aws secretsmanager get-secret-value --secret-id snowflake/capstone/login```"
   ]
  },
  {
   "cell_type": "code",
   "execution_count": 59,
   "metadata": {},
   "outputs": [
    {
     "name": "stdout",
     "output_type": "stream",
     "text": [
      "<class 'dict'>\n"
     ]
    }
   ],
   "source": [
    "import botocore \n",
    "import botocore.session \n",
    "import json\n",
    "from aws_secretsmanager_caching import SecretCache, SecretCacheConfig \n",
    "\n",
    "# Get credentials from AWS Secrets Manager\n",
    "def get_credentials():\n",
    "    client = botocore.session.get_session().create_client('secretsmanager')\n",
    "    cache_config = SecretCacheConfig()\n",
    "    cache = SecretCache( config = cache_config, client = client)\n",
    "\n",
    "    secret_dict = json.loads(cache.get_secret_string('snowflake/capstone/login'))\n",
    "    return secret_dict\n",
    "\n",
    "## Get secrete log-in information\n",
    "secrets_dict = get_credentials()\n",
    "print(type(secrets_dict))"
   ]
  },
  {
   "cell_type": "code",
   "execution_count": 63,
   "metadata": {},
   "outputs": [
    {
     "ename": "Py4JJavaError",
     "evalue": "An error occurred while calling o888.save.\n: java.lang.ClassNotFoundException: Failed to find data source: net.snowflake.spark.snowflake. Please find packages at http://spark.apache.org/third-party-projects.html\n\tat org.apache.spark.sql.execution.datasources.DataSource$.lookupDataSource(DataSource.scala:692)\n\tat org.apache.spark.sql.execution.datasources.DataSource$.lookupDataSourceV2(DataSource.scala:746)\n\tat org.apache.spark.sql.DataFrameWriter.lookupV2Provider(DataFrameWriter.scala:993)\n\tat org.apache.spark.sql.DataFrameWriter.saveInternal(DataFrameWriter.scala:311)\n\tat org.apache.spark.sql.DataFrameWriter.save(DataFrameWriter.scala:301)\n\tat java.base/jdk.internal.reflect.NativeMethodAccessorImpl.invoke0(Native Method)\n\tat java.base/jdk.internal.reflect.NativeMethodAccessorImpl.invoke(NativeMethodAccessorImpl.java:62)\n\tat java.base/jdk.internal.reflect.DelegatingMethodAccessorImpl.invoke(DelegatingMethodAccessorImpl.java:43)\n\tat java.base/java.lang.reflect.Method.invoke(Method.java:566)\n\tat py4j.reflection.MethodInvoker.invoke(MethodInvoker.java:244)\n\tat py4j.reflection.ReflectionEngine.invoke(ReflectionEngine.java:357)\n\tat py4j.Gateway.invoke(Gateway.java:282)\n\tat py4j.commands.AbstractCommand.invokeMethod(AbstractCommand.java:132)\n\tat py4j.commands.CallCommand.execute(CallCommand.java:79)\n\tat py4j.GatewayConnection.run(GatewayConnection.java:238)\n\tat java.base/java.lang.Thread.run(Thread.java:829)\nCaused by: java.lang.ClassNotFoundException: net.snowflake.spark.snowflake.DefaultSource\n\tat java.base/java.net.URLClassLoader.findClass(URLClassLoader.java:476)\n\tat java.base/java.lang.ClassLoader.loadClass(ClassLoader.java:594)\n\tat java.base/java.lang.ClassLoader.loadClass(ClassLoader.java:527)\n\tat org.apache.spark.sql.execution.datasources.DataSource$.$anonfun$lookupDataSource$5(DataSource.scala:666)\n\tat scala.util.Try$.apply(Try.scala:213)\n\tat org.apache.spark.sql.execution.datasources.DataSource$.$anonfun$lookupDataSource$4(DataSource.scala:666)\n\tat scala.util.Failure.orElse(Try.scala:224)\n\tat org.apache.spark.sql.execution.datasources.DataSource$.lookupDataSource(DataSource.scala:666)\n\t... 15 more\n",
     "output_type": "error",
     "traceback": [
      "\u001b[0;31m---------------------------------------------------------------------------\u001b[0m",
      "\u001b[0;31mPy4JJavaError\u001b[0m                             Traceback (most recent call last)",
      "Cell \u001b[0;32mIn[63], line 12\u001b[0m\n\u001b[1;32m      1\u001b[0m \u001b[39m## Load to Snowflake\u001b[39;00m\n\u001b[1;32m      2\u001b[0m sfOptions \u001b[39m=\u001b[39m { \n\u001b[1;32m      3\u001b[0m \u001b[39m\"\u001b[39m\u001b[39msfURL\u001b[39m\u001b[39m\"\u001b[39m: secrets_dict[\u001b[39m\"\u001b[39m\u001b[39mURL\u001b[39m\u001b[39m\"\u001b[39m], \n\u001b[1;32m      4\u001b[0m \u001b[39m\"\u001b[39m\u001b[39msfUser\u001b[39m\u001b[39m\"\u001b[39m : secrets_dict[\u001b[39m\"\u001b[39m\u001b[39mUSER_NAME\u001b[39m\u001b[39m\"\u001b[39m], \n\u001b[0;32m   (...)\u001b[0m\n\u001b[1;32m      9\u001b[0m \u001b[39m\"\u001b[39m\u001b[39msfRole\u001b[39m\u001b[39m\"\u001b[39m :secrets_dict[\u001b[39m\"\u001b[39m\u001b[39mROLE\u001b[39m\u001b[39m\"\u001b[39m], \n\u001b[1;32m     10\u001b[0m }\n\u001b[0;32m---> 12\u001b[0m flat_df\u001b[39m.\u001b[39;49mwrite\u001b[39m.\u001b[39;49mformat(\u001b[39m\"\u001b[39;49m\u001b[39mnet.snowflake.spark.snowflake\u001b[39;49m\u001b[39m\"\u001b[39;49m)\u001b[39m.\u001b[39;49moptions(\u001b[39m*\u001b[39;49m\u001b[39m*\u001b[39;49msfOptions)\u001b[39m.\u001b[39;49moption(\u001b[39m\"\u001b[39;49m\u001b[39mdbtable\u001b[39;49m\u001b[39m\"\u001b[39;49m, \u001b[39m\"\u001b[39;49m\u001b[39mclean_data\u001b[39;49m\u001b[39m\"\u001b[39;49m)\u001b[39m.\u001b[39;49mmode(\u001b[39m\"\u001b[39;49m\u001b[39mAppend\u001b[39;49m\u001b[39m\"\u001b[39;49m)\u001b[39m.\u001b[39;49msave()\n",
      "File \u001b[0;32m/workspace/academy-capstone/venv/lib/python3.11/site-packages/pyspark/sql/readwriter.py:1107\u001b[0m, in \u001b[0;36mDataFrameWriter.save\u001b[0;34m(self, path, format, mode, partitionBy, **options)\u001b[0m\n\u001b[1;32m   1105\u001b[0m     \u001b[39mself\u001b[39m\u001b[39m.\u001b[39mformat(\u001b[39mformat\u001b[39m)\n\u001b[1;32m   1106\u001b[0m \u001b[39mif\u001b[39;00m path \u001b[39mis\u001b[39;00m \u001b[39mNone\u001b[39;00m:\n\u001b[0;32m-> 1107\u001b[0m     \u001b[39mself\u001b[39;49m\u001b[39m.\u001b[39;49m_jwrite\u001b[39m.\u001b[39;49msave()\n\u001b[1;32m   1108\u001b[0m \u001b[39melse\u001b[39;00m:\n\u001b[1;32m   1109\u001b[0m     \u001b[39mself\u001b[39m\u001b[39m.\u001b[39m_jwrite\u001b[39m.\u001b[39msave(path)\n",
      "File \u001b[0;32m/workspace/academy-capstone/venv/lib/python3.11/site-packages/py4j/java_gateway.py:1304\u001b[0m, in \u001b[0;36mJavaMember.__call__\u001b[0;34m(self, *args)\u001b[0m\n\u001b[1;32m   1298\u001b[0m command \u001b[39m=\u001b[39m proto\u001b[39m.\u001b[39mCALL_COMMAND_NAME \u001b[39m+\u001b[39m\\\n\u001b[1;32m   1299\u001b[0m     \u001b[39mself\u001b[39m\u001b[39m.\u001b[39mcommand_header \u001b[39m+\u001b[39m\\\n\u001b[1;32m   1300\u001b[0m     args_command \u001b[39m+\u001b[39m\\\n\u001b[1;32m   1301\u001b[0m     proto\u001b[39m.\u001b[39mEND_COMMAND_PART\n\u001b[1;32m   1303\u001b[0m answer \u001b[39m=\u001b[39m \u001b[39mself\u001b[39m\u001b[39m.\u001b[39mgateway_client\u001b[39m.\u001b[39msend_command(command)\n\u001b[0;32m-> 1304\u001b[0m return_value \u001b[39m=\u001b[39m get_return_value(\n\u001b[1;32m   1305\u001b[0m     answer, \u001b[39mself\u001b[39;49m\u001b[39m.\u001b[39;49mgateway_client, \u001b[39mself\u001b[39;49m\u001b[39m.\u001b[39;49mtarget_id, \u001b[39mself\u001b[39;49m\u001b[39m.\u001b[39;49mname)\n\u001b[1;32m   1307\u001b[0m \u001b[39mfor\u001b[39;00m temp_arg \u001b[39min\u001b[39;00m temp_args:\n\u001b[1;32m   1308\u001b[0m     temp_arg\u001b[39m.\u001b[39m_detach()\n",
      "File \u001b[0;32m/workspace/academy-capstone/venv/lib/python3.11/site-packages/pyspark/sql/utils.py:111\u001b[0m, in \u001b[0;36mcapture_sql_exception.<locals>.deco\u001b[0;34m(*a, **kw)\u001b[0m\n\u001b[1;32m    109\u001b[0m \u001b[39mdef\u001b[39;00m \u001b[39mdeco\u001b[39m(\u001b[39m*\u001b[39ma, \u001b[39m*\u001b[39m\u001b[39m*\u001b[39mkw):\n\u001b[1;32m    110\u001b[0m     \u001b[39mtry\u001b[39;00m:\n\u001b[0;32m--> 111\u001b[0m         \u001b[39mreturn\u001b[39;00m f(\u001b[39m*\u001b[39;49ma, \u001b[39m*\u001b[39;49m\u001b[39m*\u001b[39;49mkw)\n\u001b[1;32m    112\u001b[0m     \u001b[39mexcept\u001b[39;00m py4j\u001b[39m.\u001b[39mprotocol\u001b[39m.\u001b[39mPy4JJavaError \u001b[39mas\u001b[39;00m e:\n\u001b[1;32m    113\u001b[0m         converted \u001b[39m=\u001b[39m convert_exception(e\u001b[39m.\u001b[39mjava_exception)\n",
      "File \u001b[0;32m/workspace/academy-capstone/venv/lib/python3.11/site-packages/py4j/protocol.py:326\u001b[0m, in \u001b[0;36mget_return_value\u001b[0;34m(answer, gateway_client, target_id, name)\u001b[0m\n\u001b[1;32m    324\u001b[0m value \u001b[39m=\u001b[39m OUTPUT_CONVERTER[\u001b[39mtype\u001b[39m](answer[\u001b[39m2\u001b[39m:], gateway_client)\n\u001b[1;32m    325\u001b[0m \u001b[39mif\u001b[39;00m answer[\u001b[39m1\u001b[39m] \u001b[39m==\u001b[39m REFERENCE_TYPE:\n\u001b[0;32m--> 326\u001b[0m     \u001b[39mraise\u001b[39;00m Py4JJavaError(\n\u001b[1;32m    327\u001b[0m         \u001b[39m\"\u001b[39m\u001b[39mAn error occurred while calling \u001b[39m\u001b[39m{0}\u001b[39;00m\u001b[39m{1}\u001b[39;00m\u001b[39m{2}\u001b[39;00m\u001b[39m.\u001b[39m\u001b[39m\\n\u001b[39;00m\u001b[39m\"\u001b[39m\u001b[39m.\u001b[39m\n\u001b[1;32m    328\u001b[0m         \u001b[39mformat\u001b[39m(target_id, \u001b[39m\"\u001b[39m\u001b[39m.\u001b[39m\u001b[39m\"\u001b[39m, name), value)\n\u001b[1;32m    329\u001b[0m \u001b[39melse\u001b[39;00m:\n\u001b[1;32m    330\u001b[0m     \u001b[39mraise\u001b[39;00m Py4JError(\n\u001b[1;32m    331\u001b[0m         \u001b[39m\"\u001b[39m\u001b[39mAn error occurred while calling \u001b[39m\u001b[39m{0}\u001b[39;00m\u001b[39m{1}\u001b[39;00m\u001b[39m{2}\u001b[39;00m\u001b[39m. Trace:\u001b[39m\u001b[39m\\n\u001b[39;00m\u001b[39m{3}\u001b[39;00m\u001b[39m\\n\u001b[39;00m\u001b[39m\"\u001b[39m\u001b[39m.\u001b[39m\n\u001b[1;32m    332\u001b[0m         \u001b[39mformat\u001b[39m(target_id, \u001b[39m\"\u001b[39m\u001b[39m.\u001b[39m\u001b[39m\"\u001b[39m, name, value))\n",
      "\u001b[0;31mPy4JJavaError\u001b[0m: An error occurred while calling o888.save.\n: java.lang.ClassNotFoundException: Failed to find data source: net.snowflake.spark.snowflake. Please find packages at http://spark.apache.org/third-party-projects.html\n\tat org.apache.spark.sql.execution.datasources.DataSource$.lookupDataSource(DataSource.scala:692)\n\tat org.apache.spark.sql.execution.datasources.DataSource$.lookupDataSourceV2(DataSource.scala:746)\n\tat org.apache.spark.sql.DataFrameWriter.lookupV2Provider(DataFrameWriter.scala:993)\n\tat org.apache.spark.sql.DataFrameWriter.saveInternal(DataFrameWriter.scala:311)\n\tat org.apache.spark.sql.DataFrameWriter.save(DataFrameWriter.scala:301)\n\tat java.base/jdk.internal.reflect.NativeMethodAccessorImpl.invoke0(Native Method)\n\tat java.base/jdk.internal.reflect.NativeMethodAccessorImpl.invoke(NativeMethodAccessorImpl.java:62)\n\tat java.base/jdk.internal.reflect.DelegatingMethodAccessorImpl.invoke(DelegatingMethodAccessorImpl.java:43)\n\tat java.base/java.lang.reflect.Method.invoke(Method.java:566)\n\tat py4j.reflection.MethodInvoker.invoke(MethodInvoker.java:244)\n\tat py4j.reflection.ReflectionEngine.invoke(ReflectionEngine.java:357)\n\tat py4j.Gateway.invoke(Gateway.java:282)\n\tat py4j.commands.AbstractCommand.invokeMethod(AbstractCommand.java:132)\n\tat py4j.commands.CallCommand.execute(CallCommand.java:79)\n\tat py4j.GatewayConnection.run(GatewayConnection.java:238)\n\tat java.base/java.lang.Thread.run(Thread.java:829)\nCaused by: java.lang.ClassNotFoundException: net.snowflake.spark.snowflake.DefaultSource\n\tat java.base/java.net.URLClassLoader.findClass(URLClassLoader.java:476)\n\tat java.base/java.lang.ClassLoader.loadClass(ClassLoader.java:594)\n\tat java.base/java.lang.ClassLoader.loadClass(ClassLoader.java:527)\n\tat org.apache.spark.sql.execution.datasources.DataSource$.$anonfun$lookupDataSource$5(DataSource.scala:666)\n\tat scala.util.Try$.apply(Try.scala:213)\n\tat org.apache.spark.sql.execution.datasources.DataSource$.$anonfun$lookupDataSource$4(DataSource.scala:666)\n\tat scala.util.Failure.orElse(Try.scala:224)\n\tat org.apache.spark.sql.execution.datasources.DataSource$.lookupDataSource(DataSource.scala:666)\n\t... 15 more\n"
     ]
    }
   ],
   "source": [
    "\n",
    "\n",
    "## Load to Snowflake\n",
    "sfOptions = { \n",
    "\"sfURL\": secrets_dict[\"URL\"], \n",
    "\"sfUser\" : secrets_dict[\"USER_NAME\"], \n",
    "\"sfPassword\" : secrets_dict[\"PASSWORD\"], \n",
    "\"sfDatabase\" : secrets_dict[\"DATABASE\"], \n",
    "\"sfSchema\" : \"VANESSA\", \n",
    "\"sfWarehouse\" : secrets_dict[\"WAREHOUSE\"], \n",
    "\"sfRole\" :secrets_dict[\"ROLE\"], \n",
    "}\n",
    "\n",
    "flat_df.write.format(\"net.snowflake.spark.snowflake\").options(**sfOptions).option(\"dbtable\", \"clean_data\").mode(\"Append\").save()"
   ]
  },
  {
   "cell_type": "markdown",
   "metadata": {},
   "source": [
    "## Log-in to AWS Console\n",
    "IAMAccount: datamindedacademy\n",
    "User: Vanessa\n",
    "Password: On Slack"
   ]
  }
 ],
 "metadata": {
  "kernelspec": {
   "display_name": "venv",
   "language": "python",
   "name": "python3"
  },
  "language_info": {
   "codemirror_mode": {
    "name": "ipython",
    "version": 3
   },
   "file_extension": ".py",
   "mimetype": "text/x-python",
   "name": "python",
   "nbconvert_exporter": "python",
   "pygments_lexer": "ipython3",
   "version": "3.11.4"
  },
  "orig_nbformat": 4
 },
 "nbformat": 4,
 "nbformat_minor": 2
}
